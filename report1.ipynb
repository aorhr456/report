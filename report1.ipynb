{
  "nbformat": 4,
  "nbformat_minor": 0,
  "metadata": {
    "colab": {
      "name": "Untitled0.ipynb",
      "provenance": [],
      "authorship_tag": "ABX9TyOuqCf2GFQmpCOYmdHosQ3N",
      "include_colab_link": true
    },
    "kernelspec": {
      "name": "python3",
      "display_name": "Python 3"
    }
  },
  "cells": [
    {
      "cell_type": "markdown",
      "metadata": {
        "id": "view-in-github",
        "colab_type": "text"
      },
      "source": [
        "<a href=\"https://colab.research.google.com/github/aorhr456/report/blob/master/report1.ipynb\" target=\"_parent\"><img src=\"https://colab.research.google.com/assets/colab-badge.svg\" alt=\"Open In Colab\"/></a>"
      ]
    },
    {
      "cell_type": "markdown",
      "metadata": {
        "id": "2rsAKr33pzHB",
        "colab_type": "text"
      },
      "source": [
        "#언어, 음성, 이미지, 자율주행의 분야 인공지능 서비스 및 기술\n",
        "\n",
        "##1. 언어 분야\n",
        "> 서비스: 파파고 번역기\n",
        ">>+ 네이버가 인공지능(AI)기술을 기반으로 개발한 기계번역 서비스. 2017년 7월 정식 출시\n",
        ">>+  네이버 산하의 기술연구소인 '네이버랩스'가 개발한 인공신경망(ANN)을 통해 스스로\n",
        "    빅데이터를 학습하고 이를 기반으로 통·번역 서비스를 제공\n",
        "\n",
        "> 적용 기술: NMT(Neural Machine Translation) \n",
        ">>+ 인공신경망 기반 기계번역\n",
        ">>+ 입력 문장을 문장벡터로 변환하는 신경망(encoder)과 문장벡터에서 번역하는 언어의 문장을 생성하는 신경망(decoder)를 대규모의 병렬 코퍼스부터 자동으로 학습하여 번역\n",
        "\n",
        "##2. 음성 분야\n",
        "> 서비스: 음성인식 가상비서\n",
        ">>+ 사람의 음성을 인식하여 사용자가 요구한 명령을 실행하는 서비스\n",
        ">>+ 사용자의 음성 반응, 메시지 보내기, 전화걸기, 전자제품 작동 등을 제공\n",
        ">>+ 스피커 형태로 사용되며 2022년 사용 수량 3억대 넘을 것으로 추정\n",
        "\n",
        "> 적용기술: \n",
        ">>1. 음성인식(ASR): 발화자의 명령어를 컴퓨터가 이해하는 언어로 자동 변화하는 기술로 인공신경망 엔진을 활용하여 단어와 문장을 학습\n",
        ">>2. 음성이해(NLU): 주어진 문장를 어떤 의미 인지를 파악하는 기술. 발화자의 의도를 파악하기 위하여 다양한 유사패턴을 학습\n",
        ">>3. 음성합성(TTS): 문장을 음성으로 변환하는 기술. 다양한 데이터가 유기적으로 결합되어 음성인식 가상비서 서비스 제공 \n",
        "\n",
        "##3. 이미지 분야\n",
        "> 서비스: 이미지 검색 엔진\n",
        ">>+ 스타핑은 고객이 촬영하거나 스마트폰에서 업로드한 이미지, 그리고 고객이 선택한 상품의 모양, 칼라, 패턴을 자동인식, 온라인 쇼핑몰 상품 중 가장 유사한 상품을 검색, 쇼핑으로 연결해 주는 원스톱 인공지능 이미지 검색 쇼핑 플랫폼\n",
        "\n",
        "> 적용기술: 사진 내 객체 자동 분류 및 검색 기술\n",
        ">>1. 사진내 의미를 분석하고, 수만장의 사진을 CNN으로 분석 및 필요한 정보를 빠르게 검색하여 추출\n",
        ">>2. CNN 기반의 딥러닝 모델과 많은 데이터 학습으로 사람의 시각처럼 높은 정확도와 다양한 사물 인식한 AI 이미지 분석 기술\n",
        ">>+ 회선 신경망 기술(CNN, Convolutional Nerual Network): 심층 신경망(DNN: Deep Neural Network)의 한 종류로, 하나 또는 여러 개의 콘볼루션 계층(convolutional layer)과 통합 계층(pooling layer), 완전하게 연결된 계층(fully connected layer)들로 구성된 신경망.\n",
        "\n",
        "##4. 자율주행 분야\n",
        "> 서비스: 스마트 크루즈 컨트롤(SSC-ML)\n",
        ">>+ 운전 속도 및 앞 차와의 간격을 조절해주는 스마트 크루즈 컨트롤(SCC)에 인공지능 기술 적용\n",
        ">>+ SCC-ML은 운전자의 주행 성향을 파악하여 운전자 맞춤형 SCC 제공, 자율주행 2.5 레벨 구현\n",
        ">>+ 머신런닝 기반으로 개발\n",
        ">>+ 저속 주행 시에는 차간 거리를 짧게 유지하지만 고속 주행 시에는 거리를 넉넉하게 유지하는 식의 다소 복합적인 성향도 작동 패턴에 반영한다\n",
        "\n",
        "> 적용기술: \n",
        ">>1. 전방카메라, 레이더 등의 센서가 다양한 운전상황에서 발생되는 정보를 수집\n",
        ">>2. ADAS 제어컴퓨터로 데이터를 보낸다. \n",
        ">>3. 입력된 정보를 머신러닝 알고리즘을 통해 운전자의 주행습관을 추출 및 종합적인 주행성향을 파악"
      ]
    }
  ]
}